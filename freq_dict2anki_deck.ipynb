{
 "cells": [
  {
   "cell_type": "markdown",
   "metadata": {},
   "source": [
    "# lets learn espanol"
   ]
  },
  {
   "cell_type": "markdown",
   "metadata": {},
   "source": [
    "## Step 1: Scrape vocabularies from pdf (aka copy paste them into text file and read that)"
   ]
  },
  {
   "attachments": {
    "fffa54ee-118e-423e-936c-d8f7eab86aa9.png": {
     "image/png": "[encoded data removed]"
    }
   },
   "cell_type": "markdown",
   "metadata": {},
   "source": [
    "![grafik.png](attachment:fffa54ee-118e-423e-936c-d8f7eab86aa9.png)\n",
    "\n",
    "This is what our vocabularies look like in the pdf (starting at page 23)\n",
    "\n",
    "And this is what I want them to be like after scraping:"
   ]
  },
  {
   "cell_type": "code",
   "execution_count": 216,
   "metadata": {},
   "outputs": [
    {
     "data": {
      "text/html": [
       "<div>\n",
       "<style scoped>\n",
       "    .dataframe tbody tr th:only-of-type {\n",
       "        vertical-align: middle;\n",
       "    }\n",
       "\n",
       "    .dataframe tbody tr th {\n",
       "        vertical-align: top;\n",
       "    }\n",
       "\n",
       "    .dataframe thead th {\n",
       "        text-align: right;\n",
       "    }\n",
       "</style>\n",
       "<table border=\"1\" class=\"dataframe\">\n",
       "  <thead>\n",
       "    <tr style=\"text-align: right;\">\n",
       "      <th></th>\n",
       "      <th>spanish</th>\n",
       "      <th>english</th>\n",
       "      <th>word_class</th>\n",
       "      <th>example_sentence</th>\n",
       "    </tr>\n",
       "  </thead>\n",
       "  <tbody>\n",
       "    <tr>\n",
       "      <th>0</th>\n",
       "      <td>el, la</td>\n",
       "      <td>the</td>\n",
       "      <td>art</td>\n",
       "      <td>esa mujer era la mujer que yo queria ser</td>\n",
       "    </tr>\n",
       "  </tbody>\n",
       "</table>\n",
       "</div>"
      ],
      "text/plain": [
       "  spanish english word_class                          example_sentence\n",
       "0  el, la     the        art  esa mujer era la mujer que yo queria ser"
      ]
     },
     "execution_count": 216,
     "metadata": {},
     "output_type": "execute_result"
    }
   ],
   "source": [
    "import pandas as pd\n",
    "d = {\"spanish\": \"el, la\", \"english\": \"the\", \"word_class\": \"art\", \"example_sentence\": \"esa mujer era la mujer que yo queria ser\"}\n",
    "example_df = pd.DataFrame(d, index=[0])\n",
    "example_df.head()"
   ]
  },
  {
   "attachments": {
    "ff2630fa-2032-4e52-a6b1-253c5d1eec0d.png": {
     "image/png": "[encoded data removed]"
    }
   },
   "cell_type": "markdown",
   "metadata": {},
   "source": [
    "![grafik.png](attachment:ff2630fa-2032-4e52-a6b1-253c5d1eec0d.png)"
   ]
  },
  {
   "cell_type": "code",
   "execution_count": 264,
   "metadata": {},
   "outputs": [],
   "source": [
    "df = pd.DataFrame(columns = ['index', 'spanish', 'english', 'word_class', 'example_sentence'])\n",
    "i = 1\n",
    "check = 0\n",
    "with open('words.txt','r', encoding='utf8') as file: # have to specify encoding\n",
    "    while i <= 1000:       \n",
    "        \n",
    "        # Read in first line and append to dict\n",
    "        d = read_line1(file, i)\n",
    "        \n",
    "        # If read_line1 was not successfull we go to next line and try again\n",
    "        if d is None:\n",
    "            continue\n",
    "        else:\n",
    "            # Read second line aka example sentence\n",
    "            d = read_line2(file,d)\n",
    "        \n",
    "            # Skip third line\n",
    "            d = read_line3(file,d)\n",
    "            \n",
    "            # Clear paragraphs from example sentence\n",
    "            d['example_sentence'] = d['example_sentence'].replace(\"\\n\",\" \")\n",
    "            \n",
    "            if check:\n",
    "                print(\"VOCAB%03d: %s\\n\" % (i, d))\n",
    "            \n",
    "            # Append to df            \n",
    "            df = df.append(d, ignore_index=True)\n",
    "                           \n",
    "            # Increment counter\n",
    "            i += 1"
   ]
  },
  {
   "cell_type": "code",
   "execution_count": 266,
   "metadata": {},
   "outputs": [],
   "source": [
    "# Save df\n",
    "df.to_pickle('spanish_first1000.pkl')"
   ]
  },
  {
   "cell_type": "markdown",
   "metadata": {},
   "source": [
    "## ⬆️ Step 1 check!!! \n",
    "\n",
    "## Step 2: write df to anki deck"
   ]
  },
  {
   "cell_type": "code",
   "execution_count": 2,
   "metadata": {},
   "outputs": [
    {
     "name": "stdout",
     "output_type": "stream",
     "text": [
      "Created deck with 1000 flashcards\n"
     ]
    }
   ],
   "source": [
    "#!/usr/bin/env python3\n",
    "import pandas as pd\n",
    "import random\n",
    "import genanki\n",
    "\n",
    "# Filename of the data file\n",
    "data_filename = \"spanish_first1000.pkl\"\n",
    "\n",
    "# Filename of the Anki deck to generate\n",
    "deck_filename = \"spanish1000.apkg\"\n",
    "\n",
    "# Title of the deck as shown in Anki\n",
    "anki_deck_title = \"spanish1000\"\n",
    "\n",
    "# Name of the card model\n",
    "anki_model_name = \"spanish\"\n",
    "\n",
    "# Create the deck model\n",
    "model_id = random.randrange(1 << 30, 1 << 31)\n",
    "\n",
    "style = \"\"\"\n",
    ".card {\n",
    " font-family: arial;\n",
    " font-size: 24px;\n",
    " text-align: center;\n",
    " color: black;\n",
    " background-color: white;\n",
    "}\n",
    ".hanzi {\n",
    " font-size: 64px;\n",
    "}\n",
    "\"\"\"\n",
    "\n",
    "anki_model = genanki.Model(\n",
    "    model_id,\n",
    "    anki_model_name,\n",
    "    fields=[{\"name\": \"spanish\"}, {\"name\": \"english\"},{\"name\": \"word_class\"}, {\"name\": \"example_sentence\"}],\n",
    "    templates=[\n",
    "        {\n",
    "            \"name\": \"Card 1\", # spanish in front, Rest back\n",
    "            \"qfmt\": '<p class=\"spanish\">{{spanish}}</p>', # front side\n",
    "            \"afmt\": '{{FrontSide}}<hr id=\"answer\"><p class=\"english\">{{english}}</p><p class=\"word_class\">{{word_class}}</p><p class=\"example_sentence\">{{example_sentence}}</p>' # back side\n",
    "        },\n",
    "        {\n",
    "            \"name\": \"Card 2\", # english front, rest back\n",
    "            \"qfmt\": '<p class=\"english\">{{english}}</p>', # front side\n",
    "            \"afmt\": '{{FrontSide}}<hr id=\"answer\"><p class=\"spanish\">{{spanish}}</p><p class=\"word_class\">{{word_class}}</p><p class=\"example_sentence\">{{example_sentence}}</p>', # back side\n",
    "        },\n",
    "    ],\n",
    "    css=style,\n",
    ")\n",
    "\n",
    "# Retrieve vocabulary\n",
    "df = pd.read_pickle(data_filename)\n",
    "anki_notes = []\n",
    "\n",
    "# Loop through\n",
    "for index, row in df.iterrows():\n",
    "    anki_note = genanki.Note(\n",
    "    model=anki_model,\n",
    "    # spanish english word_class example sentence\n",
    "    fields=[row['spanish'], row['english'], row['word_class'], row['example_sentence']],\n",
    "    )\n",
    "    anki_notes.append(anki_note)\n",
    "\n",
    "# Shuffle flashcards\n",
    "random.shuffle(anki_notes)\n",
    "\n",
    "anki_deck = genanki.Deck(model_id, anki_deck_title)\n",
    "anki_package = genanki.Package(anki_deck)\n",
    "\n",
    "# Add flashcards to the deck\n",
    "for anki_note in anki_notes:\n",
    "    anki_deck.add_note(anki_note)\n",
    "\n",
    "# Save the deck to a file\n",
    "anki_package.write_to_file(deck_filename)\n",
    "\n",
    "print(\"Created deck with {} flashcards\".format(len(anki_deck.notes)))"
   ]
  },
  {
   "cell_type": "markdown",
   "metadata": {},
   "source": [
    "# Subfunctions"
   ]
  },
  {
   "cell_type": "code",
   "execution_count": 206,
   "metadata": {},
   "outputs": [],
   "source": [
    "def skip_line(file):\n",
    "    \"\"\"\n",
    "    reads in line of file but does not return it and thereby (hopefully) effectively skips it\n",
    "    \"\"\"\n",
    "    file.readline()     "
   ]
  },
  {
   "cell_type": "code",
   "execution_count": 207,
   "metadata": {},
   "outputs": [],
   "source": [
    "def readnsplit(file):\n",
    "    \"\"\"\n",
    "    Read line, split it, return it\n",
    "    \"\"\"\n",
    "    return file.readline().split()"
   ]
  },
  {
   "cell_type": "code",
   "execution_count": 263,
   "metadata": {},
   "outputs": [],
   "source": [
    "def read_line1(file, i, d=init_vocabulary()):\n",
    "    \"\"\"\n",
    "    Write line into dictionary if beginning of string is a number (check0) and if that number matches i (check1)\n",
    "    \"\"\"        \n",
    "    line = readnsplit(file)\n",
    "    \n",
    "    # Debug\n",
    "    di = 0 \n",
    "    if i == di:\n",
    "        print(\"\\nDEBUG LINE: %s\\n\" % line)    \n",
    "    \n",
    "    # check0\n",
    "    if not line[0][0].isnumeric(): # necessary to use two different if statements as letter at start of line will cast error at check1\n",
    "        return None    \n",
    "    \n",
    "    # check1\n",
    "    if not int(line[0]) == i:        \n",
    "        return None\n",
    "    \n",
    "    # write to dict\n",
    "    else:\n",
    "        d['index'] = line[0]             \n",
    "    \n",
    "    # Join elements that are seperated by comma\n",
    "    j = 1    \n",
    "    while j < len(line):        \n",
    "        word = line[j]        \n",
    "        if word[-1] == ',': # this should take care of spanish multiple spanish values like \"el, la\" and some english stuff like \"very, really\"\n",
    "            line[j:(j+2)] = [\" \".join(line[j:j+2])] # join me and the next one\n",
    "        j += 1       \n",
    "    \n",
    "    line[3:] = [\" \". join(line[3:])] # this takes care of the rest of the english values\n",
    "    \n",
    "    # Append to dictionary       \n",
    "    d['spanish'] = line[1]\n",
    "    d['english'] = line[3]\n",
    "    d['word_class'] = line[2] \n",
    "    return d        "
   ]
  },
  {
   "cell_type": "code",
   "execution_count": 235,
   "metadata": {},
   "outputs": [],
   "source": [
    "def read_line2(file, d):\n",
    "    \"\"\"\n",
    "    Read example sentence. In case line 1 is not finished yet clear that up first.\n",
    "    \"\"\"\n",
    "    line = file.readline()\n",
    "    if line[0] == '•':\n",
    "        d['example_sentence'] = line[2:]\n",
    "    else:\n",
    "        d['english'] = d['english'] + line\n",
    "        d = read_line2(file,d)\n",
    "    return d"
   ]
  },
  {
   "cell_type": "code",
   "execution_count": 236,
   "metadata": {},
   "outputs": [],
   "source": [
    "def read_line3(file,d):\n",
    "    \"\"\"\n",
    "    Moves filepointer to next line. Read in remains of example senetence if necessary and then skip line.\n",
    "    \"\"\"\n",
    "    line = file.readline()\n",
    "    if len(line.split()) < 2 or not line.split()[1] == \"|\":\n",
    "        d['example_sentence'] = d['example_sentence'] + line\n",
    "        skip_line(file)\n",
    "    return d"
   ]
  },
  {
   "cell_type": "code",
   "execution_count": 237,
   "metadata": {},
   "outputs": [],
   "source": [
    "def init_vocabulary():\n",
    "    return {\"index\": 0, \"spanish\": \"\", \"english\": \"\", \"word_class\": \"\", \"example_sentence\": \"\"}"
   ]
  }
 ],
 "metadata": {
  "kernelspec": {
   "display_name": "Python 3",
   "language": "python",
   "name": "python3"
  },
  "language_info": {
   "codemirror_mode": {
    "name": "ipython",
    "version": 3
   },
   "file_extension": ".py",
   "mimetype": "text/x-python",
   "name": "python",
   "nbconvert_exporter": "python",
   "pygments_lexer": "ipython3",
   "version": "3.8.6"
  }
 },
 "nbformat": 4,
 "nbformat_minor": 4
}
